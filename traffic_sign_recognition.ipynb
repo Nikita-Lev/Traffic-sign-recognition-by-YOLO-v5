{
 "cells": [
  {
   "cell_type": "markdown",
   "id": "161883f6",
   "metadata": {
    "colab": {
     "base_uri": "https://localhost:8080/"
    },
    "collapsed": true,
    "id": "ciZs0Su99tCA",
    "outputId": "6ca56889-26c7-4179-9483-cd3ec80927a8"
   },
   "source": [
    "# Training and using a traffic sign recognition model YOLO v5"
   ]
  },
  {
   "cell_type": "code",
   "execution_count": null,
   "id": "833bb97f",
   "metadata": {},
   "outputs": [],
   "source": [
    "!git clone https://github.com/ultralytics/yolov5/content/drive/MyDrive/yolov5"
   ]
  },
  {
   "cell_type": "code",
   "execution_count": null,
   "id": "Cr7r0FIx4vj_",
   "metadata": {
    "colab": {
     "base_uri": "https://localhost:8080/"
    },
    "id": "Cr7r0FIx4vj_",
    "outputId": "394ca499-bf0e-4e6c-92dd-a7146f87c1ba"
   },
   "outputs": [],
   "source": [
    "%cd yolov5"
   ]
  },
  {
   "cell_type": "code",
   "execution_count": null,
   "id": "NznbV90j7PLJ",
   "metadata": {
    "colab": {
     "base_uri": "https://localhost:8080/",
     "height": 1000
    },
    "id": "NznbV90j7PLJ",
    "outputId": "cee77a5e-5f71-4255-dba2-9e702bab7c5a"
   },
   "outputs": [],
   "source": [
    "!pip install -r requirements.txt"
   ]
  },
  {
   "cell_type": "markdown",
   "id": "cf551b8a",
   "metadata": {},
   "source": [
    "## Using a pre-trained model"
   ]
  },
  {
   "cell_type": "code",
   "execution_count": null,
   "id": "1d95249d",
   "metadata": {},
   "outputs": [],
   "source": [
    "!python detect.py --weights model/best.pt --img 640 --conf 0.3 --source path/to/images/or/videos"
   ]
  },
  {
   "cell_type": "markdown",
   "id": "3a126552",
   "metadata": {},
   "source": [
    "## Training your own model"
   ]
  },
  {
   "cell_type": "markdown",
   "id": "cc23dc5f",
   "metadata": {},
   "source": [
    "Download dataset: https://universe.roboflow.com/celikmustafa89merge/levha2 (or another one)"
   ]
  },
  {
   "cell_type": "code",
   "execution_count": null,
   "id": "8557fa47",
   "metadata": {
    "colab": {
     "base_uri": "https://localhost:8080/"
    },
    "id": "8557fa47",
    "outputId": "09654592-1be8-45c3-ca87-be3fca32a75d"
   },
   "outputs": [],
   "source": [
    "!python train.py --img 640 --batch 32 --epochs 30 --data path/to/dataset.yaml --weights yolov5s.pt"
   ]
  },
  {
   "cell_type": "code",
   "execution_count": null,
   "id": "CR6Qhlx_CZNk",
   "metadata": {
    "colab": {
     "base_uri": "https://localhost:8080/"
    },
    "id": "CR6Qhlx_CZNk",
    "outputId": "cb6e69f6-d702-4451-cdc5-699e2b7665f6"
   },
   "outputs": [],
   "source": [
    "# Model validation\n",
    "!python val.py --weights runs/train/exp/weights/best.pt --data dataset.yaml --img 640"
   ]
  },
  {
   "cell_type": "markdown",
   "id": "f2c22193",
   "metadata": {},
   "source": [
    "## Using the model"
   ]
  },
  {
   "cell_type": "code",
   "execution_count": null,
   "id": "6TDdsjgYnLjw",
   "metadata": {
    "colab": {
     "base_uri": "https://localhost:8080/"
    },
    "id": "6TDdsjgYnLjw",
    "outputId": "c88a04a7-410a-4634-e514-a5fa741a546a"
   },
   "outputs": [],
   "source": [
    "!python detect.py --weights runs/train/exp/weights/best.pt --img 640 --conf 0.3 --source path/to/images/videos"
   ]
  }
 ],
 "metadata": {
  "accelerator": "GPU",
  "colab": {
   "gpuType": "T4",
   "provenance": []
  },
  "kernelspec": {
   "display_name": "Python 3 (ipykernel)",
   "language": "python",
   "name": "python3"
  },
  "language_info": {
   "codemirror_mode": {
    "name": "ipython",
    "version": 3
   },
   "file_extension": ".py",
   "mimetype": "text/x-python",
   "name": "python",
   "nbconvert_exporter": "python",
   "pygments_lexer": "ipython3",
   "version": "3.9.13"
  }
 },
 "nbformat": 4,
 "nbformat_minor": 5
}
